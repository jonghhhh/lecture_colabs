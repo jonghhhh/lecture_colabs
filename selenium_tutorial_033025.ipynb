{
  "nbformat": 4,
  "nbformat_minor": 0,
  "metadata": {
    "colab": {
      "private_outputs": true,
      "provenance": [],
      "include_colab_link": true
    },
    "kernelspec": {
      "name": "python3",
      "display_name": "Python 3"
    },
    "language_info": {
      "name": "python"
    }
  },
  "cells": [
    {
      "cell_type": "markdown",
      "metadata": {
        "id": "view-in-github",
        "colab_type": "text"
      },
      "source": [
        "<a href=\"https://colab.research.google.com/github/jonghhhh/lecture_colabs/blob/main/selenium_tutorial_033025.ipynb\" target=\"_parent\"><img src=\"https://colab.research.google.com/assets/colab-badge.svg\" alt=\"Open In Colab\"/></a>"
      ]
    },
    {
      "cell_type": "markdown",
      "source": [
        "# Selenium 활용한 동적 웹 크롤링\n",
        "\n",
        "## 1. Selenium 소개\n",
        "\n",
        "웹 브라우저를 자동화하기 위한 도구\n",
        "\n",
        "* **브라우저 자동화**: 실제 브라우저를 제어하여 사용자 행동 시뮬레이션\n",
        "* **크로스 브라우저**: Chrome, Firefox, Edge 등 다양한 브라우저 지원\n",
        "* **동적 콘텐츠 처리**: JavaScript로 생성되는 동적 콘텐츠 처리 가능\n",
        "* **사용자 상호작용 시뮬레이션**: 클릭, 스크롤, 입력 등 실제 사용자 행동을 시뮬레이션\n",
        "\n",
        "### 정적 vs 동적 웹 스크래핑\n",
        "\n",
        "* **정적 웹 스크래핑** (BeautifulSoup, requests 등)\n",
        "  - 초기 HTML 문서만 분석 가능\n",
        "  - JavaScript로 생성되는 콘텐츠에 접근 불가\n",
        "  - 사용자 상호작용(클릭, 스크롤 등) 불가\n",
        "\n",
        "* **동적 웹 스크래핑** (Selenium)\n",
        "  - 실제 브라우저를 통해 JavaScript 실행 결과에 접근 가능\n",
        "  - 클릭, 스크롤, 입력 등의 사용자 상호작용 가능"
      ],
      "metadata": {
        "id": "XWjGiDMYv2lS"
      }
    },
    {
      "cell_type": "markdown",
      "source": [
        "## 2. Colab에서 Selenium 설치하기\n",
        "\n",
        "Google Colab에서 Selenium을 사용하기 위해 Chrome 브라우저와 ChromeDriver를 설치해야 함"
      ],
      "metadata": {
        "id": "dSABr4Z0w9Ui"
      }
    },
    {
      "cell_type": "code",
      "source": [
        "!apt-get update\n",
        "!apt install chromium-chromedriver\n",
        "!cp /usr/lib/chromium-browser/chromedriver /usr/bin\n",
        "!pip install selenium chromedriver-autoinstaller"
      ],
      "metadata": {
        "id": "5WMcg71AxcMC"
      },
      "execution_count": null,
      "outputs": []
    },
    {
      "cell_type": "markdown",
      "source": [
        "## 3. 기본 웹 탐색\n",
        "\n",
        "WebDriver를 초기화하고 웹 페이지를 탐색"
      ],
      "metadata": {
        "id": "_gZPMbGVxfaW"
      }
    },
    {
      "cell_type": "code",
      "source": [
        "# 필요한 라이브러리 임포트\n",
        "from selenium import webdriver\n",
        "from selenium.webdriver.chrome.options import Options\n",
        "from selenium.webdriver.chrome.service import Service\n",
        "from selenium.webdriver.common.by import By\n",
        "from selenium.webdriver.support.ui import WebDriverWait\n",
        "from selenium.webdriver.support import expected_conditions as EC\n",
        "from selenium.common.exceptions import NoSuchElementException, TimeoutException\n",
        "\n",
        "import time\n",
        "import chromedriver_autoinstaller"
      ],
      "metadata": {
        "id": "BPPBuZLWz-Xn"
      },
      "execution_count": null,
      "outputs": []
    },
    {
      "cell_type": "code",
      "source": [
        "# Chrome WebDriver 설정\n",
        "def setup_driver():\n",
        "    \"\"\"Colab 환경에 최적화된 Chrome WebDriver를 설정합니다.\"\"\"\n",
        "\n",
        "    # Chrome 옵션 설정\n",
        "    chrome_options = webdriver.ChromeOptions()\n",
        "    chrome_options.add_argument('--headless')                  # GUI 없이 백그라운드에서 실행\n",
        "    chrome_options.add_argument('--no-sandbox')                # 샌드박스 비활성화 (Colab에서 필요)\n",
        "    chrome_options.add_argument('--disable-dev-shm-usage')     # 공유 메모리 사용 제한 비활성화\n",
        "    chrome_options.add_argument('--window-size=1920,1080')     # 창 크기 설정\n",
        "\n",
        "    # 드라이버 생성\n",
        "    driver = webdriver.Chrome(options=chrome_options)\n",
        "    return driver\n",
        "\n",
        "# WebDriver 초기화\n",
        "driver = setup_driver()\n",
        "print(\"WebDriver가 성공적으로 초기화되었습니다.\")"
      ],
      "metadata": {
        "id": "Z8eyPSI0z-Rw"
      },
      "execution_count": null,
      "outputs": []
    },
    {
      "cell_type": "code",
      "source": [
        "# 웹 페이지 탐색 기본 기능\n",
        "\n",
        "# 웹 페이지 열기\n",
        "driver.get(\"https://www.selenium.dev/documentation/\")\n",
        "print(f\"현재 페이지 제목: {driver.title}\")\n",
        "\n",
        "# 페이지 정보 가져오기\n",
        "print(f\"현재 URL: {driver.current_url}\")\n",
        "print(f\"페이지 소스 길이: {len(driver.page_source)} 문자\")\n",
        "\n",
        "# 다른 페이지로 이동\n",
        "driver.get(\"https://www.selenium.dev/selenium/web/web-form.html\")\n",
        "print(f\"새 페이지 제목: {driver.title}\")\n",
        "\n",
        "# 브라우저 네비게이션 사용\n",
        "driver.back()      # 뒤로 가기\n",
        "print(f\"뒤로 가기 후 URL: {driver.current_url}\")\n",
        "\n",
        "driver.forward()   # 앞으로 가기\n",
        "print(f\"앞으로 가기 후 URL: {driver.current_url}\")\n",
        "\n",
        "driver.refresh()   # 새로고침\n",
        "print(\"페이지가 새로고침 되었습니다.\")"
      ],
      "metadata": {
        "id": "8_aUSxOcz-PJ"
      },
      "execution_count": null,
      "outputs": []
    },
    {
      "cell_type": "markdown",
      "source": [
        "## 4. 요소 찾기 (Locating Elements)\n",
        "\n",
        "웹 페이지에서 요소를 찾는 다양한 방법\n",
        "\n",
        "1. ID로 찾기\n",
        "2. 이름으로 찾기\n",
        "3. 클래스 이름으로 찾기\n",
        "4. CSS 선택자로 찾기\n",
        "5. XPath로 찾기\n",
        "6. 링크 텍스트로 찾기\n",
        "7. 태그 이름으로 찾기"
      ],
      "metadata": {
        "id": "M7KYlasV1lRy"
      }
    },
    {
      "cell_type": "code",
      "source": [
        "# 테스트용 웹 페이지 열기\n",
        "driver.get(\"https://www.selenium.dev/selenium/web/web-form.html\")\n",
        "print(f\"페이지 제목: {driver.title}\")"
      ],
      "metadata": {
        "id": "yN4xTsjrz-Ji"
      },
      "execution_count": null,
      "outputs": []
    },
    {
      "cell_type": "code",
      "source": [
        "# 다양한 방법으로 요소 찾기\n",
        "\n",
        "# CSS 선택자로 요소 찾기\n",
        "dropdown = driver.find_element(By.CSS_SELECTOR, \"select.form-select\")\n",
        "print(f\"CSS 선택자로 찾은 요소 태그: {dropdown.tag_name}\")\n",
        "\n",
        "# XPath로 요소 찾기\n",
        "checkbox = driver.find_element(By.XPATH, \"//input[@type='checkbox']\")\n",
        "print(f\"XPath로 찾은 요소 태그: {checkbox.tag_name}, 타입: {checkbox.get_attribute('type')}\")\n",
        "\n",
        "# 태그 이름으로 요소 찾기\n",
        "first_button = driver.find_element(By.TAG_NAME, \"button\")\n",
        "print(f\"태그 이름으로 찾은 요소 텍스트: {first_button.text}\")\n",
        "\n",
        "# ID로 요소 찾기\n",
        "text_input = driver.find_element(By.ID, \"my-text-id\")\n",
        "print(f\"ID로 찾은 요소 태그: {text_input.tag_name}\")\n",
        "\n",
        "# 클래스 이름으로 요소 찾기\n",
        "form_element = driver.find_element(By.CLASS_NAME, \"form-control\")\n",
        "print(f\"클래스 이름으로 찾은 첫 번째 요소 태그: {form_element.tag_name}\")\n",
        "\n",
        "# 이름으로 요소 찾기\n",
        "password_input = driver.find_element(By.NAME, \"my-password\")\n",
        "print(f\"이름으로 찾은 요소 태그: {password_input.tag_name}\")\n",
        "\n",
        "# 링크 텍스트로 요소 찾기\n",
        "link = driver.find_element(By.LINK_TEXT, \"Return to index\")\n",
        "print(f\"링크 텍스트로 찾은 요소 태그: {link.tag_name}, 텍스트: {link.text}\")"
      ],
      "metadata": {
        "id": "9mwnz7Fjz-G5"
      },
      "execution_count": null,
      "outputs": []
    },
    {
      "cell_type": "code",
      "source": [
        "# 여러 요소 찾기\n",
        "all_inputs = driver.find_elements(By.TAG_NAME, \"input\")\n",
        "print(f\"페이지에서 발견된 input 요소 수: {len(all_inputs)}\")\n",
        "\n",
        "# 찾은 요소들의 타입 출력\n",
        "for i, inp in enumerate(all_inputs[:5]):  # 처음 5개만 출력\n",
        "    input_type = inp.get_attribute(\"type\")\n",
        "    print(f\"Input #{i+1} 타입: {input_type}\")\n",
        "\n",
        "# get_attribute():\n",
        "# HTML 요소의 속성(attribute)에 해당하는 값을 가져옴\n",
        "# 불리언 속성(예: disabled, checked)은 속성이 존재하면 \"true\"를 반환하고, 존재하지 않으면 None을 반환\n",
        "# 자주 사용되는 속성들: type, value, name, id, class, href, src, alt, disabled, checked, selected, placeholder, innerHTML, innerText, maxlength, required, readonly, style, title, target, rel, data"
      ],
      "metadata": {
        "id": "9mwna7Fjz-B5"
      },
      "execution_count": null,
      "outputs": []
    },
    {
      "cell_type": "markdown",
      "source": [
        "## 5. 요소 조작 (Element Interaction)\n",
        "\n",
        "웹 요소와 상호작용하는 방법: 입력과 클릭\n"
      ],
      "metadata": {
        "id": "M7LYlasV2lRy"
      }
    },
    {
      "cell_type": "code",
      "source": [
        "# 테스트용 웹 페이지 열기\n",
        "driver.get(\"https://www.selenium.dev/selenium/web/web-form.html\")"
      ],
      "metadata": {
        "id": "9mwna7Hkb-Ba"
      },
      "execution_count": null,
      "outputs": []
    },
    {
      "cell_type": "code",
      "source": [
        "# 텍스트 입력\n",
        "text_input = driver.find_element(By.ID, \"my-text-id\")\n",
        "text_input.clear()  # 기존 내용 지우기\n",
        "text_input.send_keys(\"안녕하세요, Selenium!\")\n",
        "print(f\"텍스트 입력 후 값: {text_input.get_attribute('value')}\")\n",
        "\n",
        "# 버튼 클릭\n",
        "submit = driver.find_element(By.CSS_SELECTOR, \"button.btn.btn-outline-primary.mt-3\")\n",
        "submit.click()"
      ],
      "metadata": {
        "id": "9mwna8Hkb-Ba"
      },
      "execution_count": null,
      "outputs": []
    },
    {
      "cell_type": "markdown",
      "source": [
        "## 6. 동적 콘텐츠 다루기\n",
        "\n",
        "JavaScript로 생성되는 동적 콘텐츠 다루기: JavaScript 실행, 스크롤 처리, iframe 처리\n"
      ],
      "metadata": {
        "id": "M7zYszqV2lRy"
      }
    },
    {
      "cell_type": "code",
      "source": [
        "# JavaScript 실행\n",
        "driver.get(\"https://www.selenium.dev/selenium/web/dynamic.html\")\n",
        "\n",
        "# JavaScript로 요소 조작\n",
        "driver.execute_script(\"document.getElementById('reveal').click();\")\n",
        "\n",
        "# JavaScript로 페이지 정보 가져오기\n",
        "page_title = driver.execute_script(\"return document.title;\")\n",
        "print(f\"JavaScript로 가져온 페이지 제목: {page_title}\")\n",
        "\n",
        "# JavaScript로 요소 값 설정\n",
        "driver.get(\"https://www.selenium.dev/selenium/web/web-form.html\")\n",
        "driver.execute_script(\n",
        "    \"arguments[0].value = arguments[1];\",\n",
        "    driver.find_element(By.ID, \"my-text-id\"),\n",
        "    \"JavaScript로 설정한 값\"\n",
        ")\n",
        "\n",
        "text_value = driver.execute_script(\n",
        "    \"return document.getElementById('my-text-id').value;\"\n",
        ")\n",
        "print(f\"JavaScript로 설정한 입력 값: {text_value}\")"
      ],
      "metadata": {
        "id": "9mopzpHky-Bz"
      },
      "execution_count": null,
      "outputs": []
    },
    {
      "cell_type": "code",
      "source": [
        "# 스크롤 처리\n",
        "driver.get(\"https://www.selenium.dev/documentation/webdriver/\")\n",
        "\n",
        "# 페이지 맨 아래로 스크롤\n",
        "driver.execute_script(\"window.scrollTo(0, document.body.scrollHeight);\")\n",
        "print(\"페이지 맨 아래로 스크롤됨\")"
      ],
      "metadata": {
        "id": "9mopzpLky-Bz"
      },
      "execution_count": null,
      "outputs": []
    },
    {
      "cell_type": "code",
      "source": [
        "# 무한 스크롤 처리 예제\n",
        "def scroll_to_load_more(driver, scroll_count=5, wait_time=1):\n",
        "    \"\"\"무한 스크롤 페이지에서 콘텐츠를 더 로드하기 위해 스크롤\"\"\"\n",
        "\n",
        "    # 초기 높이 가져오기\n",
        "    last_height = driver.execute_script(\"return document.body.scrollHeight\")\n",
        "\n",
        "    for i in range(scroll_count):\n",
        "        # 페이지 맨 아래로 스크롤\n",
        "        driver.execute_script(\"window.scrollTo(0, document.body.scrollHeight);\")\n",
        "\n",
        "        # 페이지 로딩 대기\n",
        "        time.sleep(wait_time)\n",
        "\n",
        "        # 새 높이 계산\n",
        "        new_height = driver.execute_script(\"return document.body.scrollHeight\")\n",
        "\n",
        "        # 높이가 더 이상 변하지 않으면 더 이상 콘텐츠가 로드되지 않는 것\n",
        "        if new_height == last_height:\n",
        "            print(f\"더 이상 로드할 콘텐츠 없음 (스크롤 #{i+1}에서 중단)\")\n",
        "            break\n",
        "\n",
        "        last_height = new_height\n",
        "        print(f\"스크롤 #{i+1} 완료, 새 높이: {new_height}px\")\n",
        "\n",
        "    return last_height\n",
        "\n",
        "# 스크롤 테스트를 위해 GitHub 저장소 이슈 페이지 열기\n",
        "driver.get(\"https://github.com/SeleniumHQ/selenium/issues\")\n",
        "final_height = scroll_to_load_more(driver, scroll_count=3, wait_time=2)\n",
        "print(f\"최종 페이지 높이: {final_height}px\")\n",
        "\n",
        "# 로드된 이슈 수 확인\n",
        "issues = driver.find_elements(By.CSS_SELECTOR, \".js-issue-row\")\n",
        "print(f\"로드된 이슈 수: {len(issues)}\")"
      ],
      "metadata": {
        "id": "9mopapLky-Bz"
      },
      "execution_count": null,
      "outputs": []
    },
    {
      "cell_type": "code",
      "source": [
        "# iframe 처리: 작동 안됨. 코드만 참조.\n",
        "driver.get(\"https://www.selenium.dev/selenium/web/click_frames.html\")\n",
        "\n",
        "# 먼저 iframe으로 컨텍스트 전환\n",
        "driver.switch_to.frame(\"source\")\n",
        "\n",
        "# iframe 내부의 요소에 접근\n",
        "iframe_link = driver.find_element(By.ID, \"otherframe\")\n",
        "print(f\"iframe 내부 링크 텍스트: {iframe_link.text}\")\n",
        "iframe_link.click()\n",
        "\n",
        "# 다시 기본 컨텍스트로 전환\n",
        "driver.switch_to.default_content()\n",
        "print(\"기본 컨텍스트로 전환됨\")\n",
        "\n",
        "# 다른 iframe으로 전환 (인덱스 사용)\n",
        "iframe_elements = driver.find_elements(By.TAG_NAME, \"iframe\")\n",
        "driver.switch_to.frame(0)  # 첫 번째 iframe\n",
        "print(\"첫 번째 iframe으로 전환됨\")\n",
        "\n",
        "# 다시 기본 컨텍스트로 전환\n",
        "driver.switch_to.default_content()"
      ],
      "metadata": {
        "id": "9mopapLkh-Bz"
      },
      "execution_count": null,
      "outputs": []
    },
    {
      "cell_type": "markdown",
      "source": [
        "## 7. 대기 전략 (Waiting Strategies)\n",
        "\n",
        "웹 페이지 로딩이나 동적 콘텐츠가 나타날 때까지 기다리기\n",
        "\n",
        "1. 암시적 대기 (Implicit Wait)\n",
        "2. 명시적 대기 (Explicit Wait)"
      ],
      "metadata": {
        "id": "M7zYszsV2lRy"
      }
    },
    {
      "cell_type": "code",
      "source": [
        "# 암시적 대기 (Implicit Wait)\n",
        "# 모든 요소를 찾을 때 지정된 시간만큼 기다림\n",
        "driver.implicitly_wait(10)  # 최대 10초 동안 대기\n",
        "\n",
        "# 암시적 대기 테스트\n",
        "driver.get(\"https://www.selenium.dev/selenium/web/dynamic.html\")\n",
        "driver.find_element(By.ID, \"adder\").click()\n",
        "added_element = driver.find_element(By.ID, \"box0\")  # 이 요소는 클릭 후 나타남\n",
        "print(f\"추가된 요소 텍스트: {added_element.text}\")\n",
        "\n",
        "# 암시적 대기 재설정\n",
        "driver.implicitly_wait(0)  # 대기 비활성화"
      ],
      "metadata": {
        "id": "9mwpz8Hkp-Ba"
      },
      "execution_count": null,
      "outputs": []
    },
    {
      "cell_type": "code",
      "source": [
        "# 명시적 대기 (Explicit Wait)\n",
        "# 특정 조건이 충족될 때까지 기다림\n",
        "\n",
        "driver.get(\"https://www.selenium.dev/selenium/web/dynamic.html\")\n",
        "\n",
        "# 요소가 나타날 때까지 대기하고 싶은 경우\n",
        "driver.find_element(By.ID, \"reveal\").click()\n",
        "\n",
        "wait = WebDriverWait(driver, 10)  # 최대 10초 대기\n",
        "revealed_element = wait.until(\n",
        "    EC.visibility_of_element_located((By.ID, \"revealed\"))\n",
        ")\n",
        "\n",
        "print(f\"나타난 요소 텍스트: {revealed_element.text}\")"
      ],
      "metadata": {
        "id": "9mwpz8Hkp-Bz"
      },
      "execution_count": null,
      "outputs": []
    },
    {
      "cell_type": "markdown",
      "source": [
        "## 8. 고급 기법\n",
        "- 스크린샷 찍기, 쿠키 관리, 창 및 탭 관리, 알림 및 대화 상자 처리, 사용자 에이전트 설정 등 가능"
      ],
      "metadata": {
        "id": "M7zYszqV2eRy"
      }
    },
    {
      "cell_type": "code",
      "source": [
        "# 스크린샷 찍기\n",
        "driver.get(\"https://www.selenium.dev/\")\n",
        "\n",
        "# 전체 페이지 스크린샷\n",
        "driver.save_screenshot(\"selenium_homepage.png\")\n",
        "print(\"전체 페이지 스크린샷 저장됨: selenium_homepage.png\")"
      ],
      "metadata": {
        "id": "9mopapLkh-Br"
      },
      "execution_count": null,
      "outputs": []
    },
    {
      "cell_type": "markdown",
      "source": [
        "### 브라우저 종료\n",
        "\n",
        "작업이 완료되면 항상 브라우저를 종료하여 리소스를 정리해야 합니다."
      ],
      "metadata": {
        "id": "M3z6szqV2eRy"
      }
    },
    {
      "cell_type": "code",
      "source": [
        "# WebDriver 종료\n",
        "driver.quit()\n",
        "print(\"WebDriver가 종료되었습니다.\")"
      ],
      "metadata": {
        "id": "9mbbnpzkh-Bp"
      },
      "execution_count": null,
      "outputs": []
    },
    {
      "cell_type": "markdown",
      "source": [
        "## 9. 추가 자료\n",
        "\n",
        "- [Selenium 공식 문서](https://www.selenium.dev/documentation/)\n",
        "- [Selenium Python API 문서](https://selenium-python.readthedocs.io/)\n",
        "- [Selenium GitHub 저장소](https://github.com/SeleniumHQ/selenium)\n",
        "\n"
      ],
      "metadata": {
        "id": "M3d6szqV2eRy"
      }
    }
  ]
}